{
 "cells": [
  {
   "cell_type": "code",
   "execution_count": 15,
   "metadata": {},
   "outputs": [
    {
     "name": "stdout",
     "output_type": "stream",
     "text": [
      "4\n",
      "['orange', 34.6, False, 'watermelon', 'sagar']\n"
     ]
    }
   ],
   "source": [
    "## LIST\n",
    "#List Allow Duplicates, List can store different data types\n",
    "\n",
    "mylist = [\"apple\",13,False ,\"cherry\",34.6]\n",
    "len(mylist)\n",
    "mylist[1]=\"sagar\"   #['apple', 'sagar', False, 'cherry', 34.6]\n",
    "\n",
    "mylist.insert(2, \"watermelon\") #['apple', 'sagar', 'watermelon', False, 'cherry', 34.6]\n",
    "\n",
    "mylist.append(\"orange\") #add at end  -> ['apple', 'sagar', 'watermelon', False, 'cherry', 34.6, 'orange']\n",
    "\n",
    "mylist.remove(\"cherry\")  #['apple', 'sagar', 'watermelon', False, 34.6, 'orange']\n",
    "print(mylist.index(34.6))   # 4\n",
    "print (mylist.count(34.6))  #1  -> ist me kisi element ki occurrence count karta hai.\n",
    "\n",
    "mylist.pop(0)  #removes from specified index in list\n",
    "# mylist.sort()  #sort karne ke liye list me same data type hona chahiye \n",
    "#mylist.clear()  #remove all element from list\n",
    "mylist.reverse() #reverse the list\n",
    "print(mylist) # ['orange', 34.6, False, 'watermelon', 'sagar']"
   ]
  },
  {
   "cell_type": "code",
   "execution_count": 18,
   "metadata": {},
   "outputs": [
    {
     "name": "stdout",
     "output_type": "stream",
     "text": [
      "['apple', 'banana', 'cherry', 'kiwi']\n",
      "['kiwi', 'apple', 'banana', 'cherry']\n"
     ]
    }
   ],
   "source": [
    "#sorting\n",
    "#i.\n",
    "list2 = ['apple', 'banana', 'cherry', 'kiwi']\n",
    "list2.sort()  # Sorting based on ASCII value\n",
    "print(list2)  # Output: ['apple', 'banana', 'cherry', 'kiwi']\n",
    "\n",
    "#ii.\n",
    "list2.sort(key=len)  # Sorting based on string length\n",
    "print(list2)  # Output: ['kiwi', 'apple', 'banana', 'cherry']"
   ]
  },
  {
   "cell_type": "code",
   "execution_count": 26,
   "metadata": {},
   "outputs": [
    {
     "name": "stdout",
     "output_type": "stream",
     "text": [
      "2\n",
      "1\n",
      "(2, 'yadav', False)\n",
      "True\n",
      "3\n",
      "1\n"
     ]
    }
   ],
   "source": [
    "## TUPLES\n",
    "# i.Ek baar tuple create hone ke baad, usme koi bhi changes nahi kiye ja sakte. \n",
    "# Aap elements ko modify, add, ya remove nahi kar sakte.\n",
    "\n",
    "#same as LIST\n",
    "\n",
    "tuple1=(1,2,\"yadav\",False,4.2,1,3,1)\n",
    "print(tuple1[1])  # 2 ->1th index\n",
    "print(tuple1[-1]) #last se 0th index\n",
    "print(tuple1[1:4]) #[2,\"yadav\",False]\n",
    "\n",
    "print(4.2 in tuple1)  #  True  ->check if 4.2 exist in tuple1 or not\n",
    "\n",
    "print(tuple1.count(1)) # 3 ->count the occurrence of 1 in tuple1\n",
    "print(tuple1.index(2)) # 1 ->index of value 2 in tuple1"
   ]
  },
  {
   "cell_type": "code",
   "execution_count": 44,
   "metadata": {},
   "outputs": [
    {
     "name": "stdout",
     "output_type": "stream",
     "text": [
      "False\n",
      "{1, 34, 2, 6, 'b'}\n",
      "{1, 2, 3, 4, 5}\n",
      "{3}\n",
      "{1, 2}\n",
      "{1, 2, 4, 5}\n"
     ]
    }
   ],
   "source": [
    "## SET\n",
    "# unique elements , Sets mein elements ko index se access nahi kiya ja sakta,\n",
    "\n",
    "#same as LIST\n",
    "set3={1,34,5,\"b\",2}\n",
    "set3.add(6) #add  element at end  {1, 34, 2, 5, 6, 'b'}\n",
    "set3.remove(5)  # {1, 34, 2, 'b'}\n",
    "print(\"c\" in set3) # False\n",
    "\n",
    "print(set3)\n",
    "\n",
    "\n",
    "## union \n",
    "set1 = {1, 2, 3}\n",
    "set2 = {3, 4, 5}\n",
    "union_set = set1.union(set2)\n",
    "print(union_set)  # {1, 2, 3, 4, 5}\n",
    "\n",
    "#intersection\n",
    "intersection_set=set1.intersection(set2)\n",
    "print(intersection_set)  # {3}\n",
    "\n",
    "#set difference\n",
    "difference_set = set1 - set2\n",
    "print(difference_set)  # {1, 2}\n",
    "\n",
    "#symmetric difference\n",
    "sym_diff_set = set1.symmetric_difference(set2)\n",
    "print(sym_diff_set)  # {1, 2, 4, 5}"
   ]
  },
  {
   "cell_type": "code",
   "execution_count": null,
   "metadata": {},
   "outputs": [],
   "source": [
    "## DICTIONARY"
   ]
  }
 ],
 "metadata": {
  "kernelspec": {
   "display_name": "Python 3",
   "language": "python",
   "name": "python3"
  },
  "language_info": {
   "codemirror_mode": {
    "name": "ipython",
    "version": 3
   },
   "file_extension": ".py",
   "mimetype": "text/x-python",
   "name": "python",
   "nbconvert_exporter": "python",
   "pygments_lexer": "ipython3",
   "version": "3.13.1"
  }
 },
 "nbformat": 4,
 "nbformat_minor": 2
}
