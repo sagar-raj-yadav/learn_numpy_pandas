{
 "cells": [
  {
   "cell_type": "code",
   "execution_count": null,
   "metadata": {},
   "outputs": [],
   "source": [
    "#Numpy means numerical python,which is used for mathematical and scientific computation.\n",
    "#mean,variance,standard deviation,median,mode,percentile,quartile in sab ko caculate karne ke liye numpy use hota hai.\n",
    "#It has a function for working in domain of linear algebra, fourier transform and matrices.\n",
    "\n",
    "#Numpy uses less memory to store data.Numpy makes it easy to perform mathematical operations on arrays \n",
    "#and used for creation of n-dimensional arrays and finding element numpy array is easy.\n",
    "\n",
    "#pip install numpy"
   ]
  },
  {
   "cell_type": "code",
   "execution_count": 8,
   "metadata": {},
   "outputs": [
    {
     "name": "stdout",
     "output_type": "stream",
     "text": [
      "[1, 2, 3, 4, 5, 6, 7, 8, 9, 10]\n",
      "[1, 2, 3, 4, 5, 1, 2, 3, 4, 5, 1, 2, 3, 4, 5, 1, 2, 3, 4, 5, 1, 2, 3, 4, 5, 1, 2, 3, 4, 5, 1, 2, 3, 4, 5, 1, 2, 3, 4, 5, 1, 2, 3, 4, 5, 1, 2, 3, 4, 5]\n"
     ]
    }
   ],
   "source": [
    "#example of list\n",
    "l1=[1,2,3,4,5]\n",
    "l2=[6,7,8,9,10]\n",
    "print(l1+l2) #output=[1, 2, 3, 4, 5, 6, 7, 8, 9, 10]\n",
    "# print(l1*l2) #error\n",
    "print(l1*10) #output=l1 ko 10 times print kar dega"
   ]
  },
  {
   "cell_type": "code",
   "execution_count": null,
   "metadata": {},
   "outputs": [
    {
     "name": "stdout",
     "output_type": "stream",
     "text": [
      "[11 12 13 14 15]\n",
      "[ 60  70  80  90 100]\n",
      "[ 6 14 24 36 50]\n",
      "[1, 2, 3, [4, 5]]\n"
     ]
    }
   ],
   "source": [
    "#But array me addition,multiply and caluculation easy ho jata h.\n",
    "import numpy as np\n",
    "a=np.array([1,2,3,4,5])\n",
    "b=np.array([6,7,8,9,10])\n",
    "print(a+10) # output=[11 12 13 14 15]\n",
    "print(b*10)  #output=[60 70 80 90 100]\n",
    "print(a*b) #output=[ 6 14 24 36 50]\n",
    "#Note:array me ek hi DataType ka data store hota h.\n",
    "\n",
    "#array vs list\n",
    "#array takes less memory\n",
    "#array can handle direct mathematical calculation\n",
    "#easier to add,delete element from array\n",
    "#array me diffent size ka nested data nhi store kar sakte h,but list me store kar sakte h.\n",
    "l1=[[1,2,3],[4,5]] #output:  [1, 2, 3, [4, 5]]\n",
    "print(l1)  \n",
    "# a1=np.array([[1,2,3],[4,5]]) #error\n",
    "#array me agar first row me 3 element h to second row me bhi 3 element hona chahiye."
   ]
  },
  {
   "cell_type": "code",
   "execution_count": 26,
   "metadata": {},
   "outputs": [
    {
     "name": "stdout",
     "output_type": "stream",
     "text": [
      "[4 5]\n"
     ]
    }
   ],
   "source": [
    "#creating arrays in numpy\n",
    "a1=np.array([1,2,3,4,5]) #1D array\n",
    "a2=np.array([[1,2,3],[4,5,6]]) #2D array\n",
    "# print(a1)\n",
    "# print(a2)\n",
    "\n",
    "# #slicing of numpy array\n",
    "print(a1[0:3]) #output=[1 2 3] #0th index se 2rd index tak print karega.(i,e 1st 3 element)\n",
    "print(a2[0:2,0:2]) #output=[[1 2] [4 5 6]] #0th row se 1st row tak and 0th column se 1st column tak print karega.\n",
    "#2D array me jitna 1st array me element h utna hi 2nd array me element hona chahiye.\n",
    "#2D array me hum yesa nhi kar sakte.(print(a2[0:2,0:3])  )\n",
    "\n",
    "print(a2[1,0:2]) #output [4,5] #1st index pe jo array hai uska 0th index se 1st index tak print karega.\n",
    "\n",
    "print(a1[-2:])  #last 2 index , [4,5]\n",
    "\n",
    "print(np.shape(a2)) #output-> (2,3) #2 rows and 3 columns\n",
    "print(np.size(a2)) #total element in array is 6\n",
    "print(np.ndim(a2)) #output-> 2 #  2D array\n",
    "print(a2.dtype) #int64 #dataType of array is INT\n",
    "print(a1[2:]) #index 2 se last index tak ( [3,4,5] )\n",
    "\n"
   ]
  },
  {
   "cell_type": "code",
   "execution_count": 45,
   "metadata": {},
   "outputs": [
    {
     "data": {
      "text/plain": [
       "array([['1.0', '2.2', '3.0', '4.0', '5.0'],\n",
       "       ['6.0', '7.0', '8.0', '9.0', '10.0']], dtype='<U32')"
      ]
     },
     "execution_count": 45,
     "metadata": {},
     "output_type": "execute_result"
    }
   ],
   "source": [
    "#Inspecting an array (array ka size ,shape ,dimensionsand data type pata karne ke liye)\n",
    "#array_name.shape->(rows,columns)\n",
    "#len(array_name)->size of  array\n",
    "#array_name.ndim->dimension of array(1D,2D..)\n",
    "#array_name.dtype->data type of array \n",
    "#array_name.size->total element in array\n",
    "#array_name.astype(int)->convert to int datatype ..(int,float,str)\n",
    "\n",
    "import numpy as np\n",
    "arr=np.array([[1,2,3,4,5],[6,7,8,9,10]]) \n",
    "arr.shape #(2,5)\n",
    "len(arr) #2\n",
    "arr.ndim #2\n",
    "arr.dtype #dtype('int64')\n",
    "arr.size #10(total 10 element)\n",
    "arr.astype(str)   # array([['1', '2', '3', '4', '5'],\n",
    "                #  ['6', '7', '8', '9', '10']], dtype='<U21')"
   ]
  },
  {
   "cell_type": "code",
   "execution_count": 65,
   "metadata": {},
   "outputs": [
    {
     "name": "stdout",
     "output_type": "stream",
     "text": [
      "[10  9 11 10 15]\n",
      "[-8 -5 -5 -2 -5]\n",
      "[0.11111111 0.28571429 0.375      0.66666667 0.5       ]\n",
      "[ 9 14 24 24 50]\n",
      "[0 1 2 2 0]\n",
      "[ 1  4  9 16 25]\n",
      "[      1     128    6561    4096 9765625]\n"
     ]
    }
   ],
   "source": [
    "#Mathematical operation and Functions on Array\n",
    "# a1=[1,2,3,4,5] and a2=[6,7,8,9,10] agar array yesa hua to hume proper add,subtract likhna hoga \n",
    "#np.add(arr1,arr2)->addition of two array\n",
    "#np.subtract(arr1,arr2)->subtraction of two array\n",
    "#np.multiply(arr1,arr2)->multiplication of two array\n",
    "#np.divide(arr1,arr2)->division of two array\n",
    "\n",
    "#agar np.array() ke help se array banayenge to direct +,-,*,/ use kar sakte h.\n",
    "a1=np.array([1,2,3,4,5])\n",
    "a2=np.array([9,7,8,6,10])\n",
    "print(a1+a2)\n",
    "print(a1-a2)\n",
    "print(a1/a2)\n",
    "print(a1*a2)\n",
    "print(a2%a1)\n",
    "print(a1**2) #square of each element\n",
    "print(a1**a2) #a1 power a2  (1^9,2^7,3^8,4^6,5^10 )\n"
   ]
  },
  {
   "cell_type": "code",
   "execution_count": 2,
   "metadata": {},
   "outputs": [
    {
     "name": "stdout",
     "output_type": "stream",
     "text": [
      "[3 4 5 1 2 3]\n",
      "[[ 3  4  5  1  2  3]\n",
      " [ 6  7  8 10 11 12]]\n",
      "[[ 3  4  5]\n",
      " [ 6  7  8]\n",
      " [ 1  2  3]\n",
      " [10 11 12]]\n",
      "[array([3]), array([4]), array([5])]\n",
      "[array([1, 2]), array([3])]\n",
      "[1 2]\n",
      "[3]\n"
     ]
    }
   ],
   "source": [
    "#combining and splitting array\n",
    "import numpy as np\n",
    "a=np.array([3,4,5])\n",
    "b=np.array([1,2,3])\n",
    "\n",
    "#concatenate array\n",
    "print(np.concatenate((a,b))) #output=[3 4 5 1 2 3]\n",
    "\n",
    "#2D array\n",
    "c=np.array([[3,4,5],[6,7,8]])\n",
    "d=np.array([[1,2,3],[10,11,12]])\n",
    "print(np.concatenate((c,d),axis=1)) #  [[ 3  4  5  1  2  3]  #print(np.hstack((c,d)))  ->same output\n",
    "                                    #  [ 6  7  8 10 11 12]]\n",
    "\n",
    "print(np.concatenate((c,d),axis=0))  #[[ 3  4  5]   #print(np.vstack((c,d))) ->same output\n",
    "                                    #  [ 6  7  8]\n",
    "                                    #  [ 1  2  3]\n",
    "                                    #  [10 11 12]]\n",
    "\n",
    "\n",
    "#splitting array                        \n",
    "print(np.array_split(a,3)) #output=[array([3]), array([4]), array([5])] #array ko 3 parts me split kro\n",
    "y=np.array_split(b,2)\n",
    "print(y)  #[array([1, 2]), array([3])]\n",
    "print(y[0]) #[1 2]  , y[0] ->access first array(i.e,0th index)\n",
    "print(y[1]) # [3]"
   ]
  },
  {
   "cell_type": "code",
   "execution_count": 33,
   "metadata": {},
   "outputs": [
    {
     "name": "stdout",
     "output_type": "stream",
     "text": [
      "[ 1 12  3  4  5  7]\n",
      "[ 1 12  3  4  5]\n",
      "[ 1 12  9  3  4  5]\n",
      "[ 1 12  3  4  5]\n",
      "[ 1 12  3  4  5  7]\n",
      "[ 1 12  9  3  4  5  7]\n",
      "[ 1 12  3  4  5  6  7  8  9 10 16 19 20]\n",
      "[[ 1 12  3  4  5]\n",
      " [ 6  7  8  9 10]]\n",
      "[[ 1 28 12  3  4  5]\n",
      " [ 6 39  7  8  9 10]]\n"
     ]
    }
   ],
   "source": [
    "#Adding and Removing element from array\n",
    "#np.append(array_name,element)->add element at the end of array\n",
    "#np.insert(array_name,index,element)->add element at specific index\n",
    "#np.delete(array_name,index)->delete element at specific index\n",
    "\n",
    "import numpy as np\n",
    "arr=np.array([1,12,3,4,5])\n",
    "\n",
    "#method 1->\n",
    "print(np.append(arr,7) )  #[1 12 3 4 5 7]\n",
    "print(arr) #[1 12 3 4 5]\n",
    "print(np.insert(arr,2,9)) #[1 12 9 3 4 5]\n",
    "print(arr) #[1 12 3 4 5]\n",
    "\n",
    "# Note->append and insert karne ke baad jo original array tha usme koi changes nhi aaya h,\n",
    "#      agar mujhe origin array me changes chahiye to,\n",
    "#method 2->\n",
    "arr=np.append(arr,7)\n",
    "print(arr) #[1 12 3 4 5 7]\n",
    "arr=np.insert(arr,2,9)\n",
    "print(arr) #[1 12 9 3 4 5 7]\n",
    "\n",
    "#Insert in 2D array\n",
    "arr2=np.array([[1,12,3,4,5],\n",
    "                [6,7,8,9,10]])\n",
    "print(np.append(arr2,[16,19,20]) )\n",
    "print(arr2)\n",
    "print(np.insert(arr2,1,[28,39],axis=1))"
   ]
  },
  {
   "cell_type": "code",
   "execution_count": null,
   "metadata": {},
   "outputs": [],
   "source": []
  }
 ],
 "metadata": {
  "kernelspec": {
   "display_name": "Python 3",
   "language": "python",
   "name": "python3"
  },
  "language_info": {
   "codemirror_mode": {
    "name": "ipython",
    "version": 3
   },
   "file_extension": ".py",
   "mimetype": "text/x-python",
   "name": "python",
   "nbconvert_exporter": "python",
   "pygments_lexer": "ipython3",
   "version": "3.13.1"
  }
 },
 "nbformat": 4,
 "nbformat_minor": 2
}
